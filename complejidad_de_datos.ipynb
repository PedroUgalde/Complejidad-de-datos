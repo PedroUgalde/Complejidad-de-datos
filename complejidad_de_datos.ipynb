{
  "cells": [
    {
      "cell_type": "markdown",
      "metadata": {
        "id": "wrOsdvTfHOPr"
      },
      "source": [
        "COMPLEJIDAD DE DATOS.\n",
        "Sklearn tiene una clase experimental llamada Iterative imputer:\n",
        "\n",
        "que toma una clumna con datos faltantes y de manera iterativa prueba con otra columna\n",
        "\n",
        "estimar los valores faltantes en un conjunto de datos utilizando información de otras características (o columnas). En este caso, IterativeImputer realiza la imputación de manera iterativa, modelando cada característica con valores faltantes como una función de las otras características.\n",
        "\n",
        "utiliza regrsion lineal"
      ]
    },
    {
      "cell_type": "code",
      "execution_count": 1,
      "metadata": {
        "colab": {
          "base_uri": "https://localhost:8080/"
        },
        "id": "aPoba3-XHGBl",
        "outputId": "7fd2f9e9-44a4-4276-de79-de4e2d617eb2"
      },
      "outputs": [
        {
          "name": "stdout",
          "output_type": "stream",
          "text": [
            "          precio  tamaño  número_de_habitaciones       edad clase\n",
            "0  200000.000000   150.0                     3.0  10.000000     A\n",
            "1  250079.968013   200.0                     4.0   5.000000     A\n",
            "2  300000.000000   250.0                     3.0   8.000000     B\n",
            "0  250000.000000   300.0                     2.0  15.000000     A\n",
            "1  250000.000000   300.0                     5.0  20.000000     A\n",
            "2  250000.000000   300.0                     4.0  18.333333     B\n"
          ]
        },
        {
          "name": "stderr",
          "output_type": "stream",
          "text": [
            "<ipython-input-1-dc7de29cbbc8>:23: DeprecationWarning: DataFrameGroupBy.apply operated on the grouping columns. This behavior is deprecated, and in a future version of pandas the grouping columns will be excluded from the operation. Either pass `include_groups=False` to exclude the groupings or explicitly select the grouping columns after groupby to silence this warning.\n",
            "  df_imputed = df.groupby('clase').apply(lambda x: imputar_por_clase(x.drop(columns='clase')))\n"
          ]
        }
      ],
      "source": [
        "import numpy as np\n",
        "import pandas as pd\n",
        "from sklearn.experimental import enable_iterative_imputer\n",
        "from sklearn.impute import IterativeImputer\n",
        "\n",
        "# Crear un DataFrame de ejemplo con una columna de clase\n",
        "data = {\n",
        "    'clase': ['A', 'A', 'B', 'B', 'A', 'B'],\n",
        "    'precio': [200000, np.nan, 250000, np.nan, 300000, np.nan],\n",
        "    'tamaño': [150, 200, np.nan, 300, 250, np.nan],\n",
        "    'número_de_habitaciones': [3, 4, 2, 5, 3, 4],\n",
        "    'edad': [10, 5, 15, 20, 8, np.nan]\n",
        "}\n",
        "\n",
        "df = pd.DataFrame(data)\n",
        "\n",
        "# Función para imputar valores en cada grupo\n",
        "def imputar_por_clase(subdf):\n",
        "    imputer = IterativeImputer(max_iter=10, random_state=0)\n",
        "    return pd.DataFrame(imputer.fit_transform(subdf), columns=subdf.columns)\n",
        "\n",
        "# Agrupar por clase y aplicar la imputación\n",
        "df_imputed = df.groupby('clase').apply(lambda x: imputar_por_clase(x.drop(columns='clase')))\n",
        "\n",
        "# Reindexar para mantener la estructura original\n",
        "df_imputed = df_imputed.reset_index(level=0, drop=True)\n",
        "\n",
        "# Agregar la columna de clase de nuevo\n",
        "df_imputed['clase'] = df['clase']\n",
        "\n",
        "print(df_imputed)\n"
      ]
    },
    {
      "cell_type": "markdown",
      "metadata": {
        "id": "jQwumZNfPMa9"
      },
      "source": [
        "TAMBIEN EXISTE ALGO MAS ESTANDAR Y MAS SIMPLE LLAMDA SIMPLE IMPUTER\n",
        "donde tu indicas las estrategia para rellenar datos."
      ]
    },
    {
      "cell_type": "code",
      "execution_count": 1,
      "metadata": {
        "colab": {
          "base_uri": "https://localhost:8080/"
        },
        "id": "D9UO9XQuPSBm",
        "outputId": "0c8e88a1-8127-4667-826a-8c22b04146da"
      },
      "outputs": [
        {
          "name": "stdout",
          "output_type": "stream",
          "text": [
            "[[4.         2.        ]\n",
            " [6.         3.66666667]\n",
            " [7.         6.        ]]\n"
          ]
        }
      ],
      "source": [
        "import numpy as np\n",
        "from sklearn.impute import SimpleImputer\n",
        "imp = SimpleImputer(missing_values=np.nan, strategy='mean')\n",
        "imp.fit([[1, 2], [np.nan, 3], [7, 6]])\n",
        "SimpleImputer()\n",
        "X = [[np.nan, 2], [6, np.nan], [7, 6]]\n",
        "print(imp.transform(X))"
      ]
    },
    {
      "cell_type": "markdown",
      "metadata": {
        "id": "84YQOa1rQmAq"
      },
      "source": [
        "Cargar Librerias"
      ]
    },
    {
      "cell_type": "code",
      "execution_count": 7,
      "metadata": {
        "id": "0HyJVKn1Qj9q"
      },
      "outputs": [],
      "source": [
        "import pandas as pd                  # A fundamental package for linear algebra and multidimensional arrays\n",
        "import numpy as np                   # Data analysis and data manipulating tool\n",
        "import random                        # Library to generate random numbers\n",
        "from collections import Counter      # Collection is a Python module that implements specialized container datatypes providing\n",
        "                                     # alternatives to Python’s general purpose built-in containers, dict, list, set, and tuple.\n",
        "                                     # Counter is a dict subclass for counting hashable objects\n",
        "# Visualization libraries\n",
        "import matplotlib.pyplot as plt\n",
        "import seaborn as sns\n",
        "\n",
        "# To ignore warnings in the notebook\n",
        "import warnings\n",
        "warnings.filterwarnings(\"ignore\")"
      ]
    },
    {
      "cell_type": "markdown",
      "metadata": {
        "id": "LuiQ6HMJRE_p"
      },
      "source": [
        "Cargar dataset"
      ]
    },
    {
      "cell_type": "code",
      "execution_count": 8,
      "metadata": {
        "colab": {
          "base_uri": "https://localhost:8080/",
          "height": 308
        },
        "id": "jA5esj5ARHwi",
        "outputId": "e0d38408-52a9-4e83-bf49-256ecf186123"
      },
      "outputs": [
        {
          "data": {
            "text/html": [
              "<div>\n",
              "<style scoped>\n",
              "    .dataframe tbody tr th:only-of-type {\n",
              "        vertical-align: middle;\n",
              "    }\n",
              "\n",
              "    .dataframe tbody tr th {\n",
              "        vertical-align: top;\n",
              "    }\n",
              "\n",
              "    .dataframe thead th {\n",
              "        text-align: right;\n",
              "    }\n",
              "</style>\n",
              "<table border=\"1\" class=\"dataframe\">\n",
              "  <thead>\n",
              "    <tr style=\"text-align: right;\">\n",
              "      <th></th>\n",
              "      <th>TransactionID</th>\n",
              "      <th>isFraud</th>\n",
              "      <th>TransactionDT</th>\n",
              "      <th>TransactionAmt</th>\n",
              "      <th>ProductCD</th>\n",
              "      <th>card1</th>\n",
              "      <th>card2</th>\n",
              "      <th>card3</th>\n",
              "      <th>card4</th>\n",
              "      <th>card5</th>\n",
              "      <th>...</th>\n",
              "      <th>id_31</th>\n",
              "      <th>id_32</th>\n",
              "      <th>id_33</th>\n",
              "      <th>id_34</th>\n",
              "      <th>id_35</th>\n",
              "      <th>id_36</th>\n",
              "      <th>id_37</th>\n",
              "      <th>id_38</th>\n",
              "      <th>DeviceType</th>\n",
              "      <th>DeviceInfo</th>\n",
              "    </tr>\n",
              "  </thead>\n",
              "  <tbody>\n",
              "    <tr>\n",
              "      <th>0</th>\n",
              "      <td>2994681</td>\n",
              "      <td>0</td>\n",
              "      <td>242834</td>\n",
              "      <td>25.000</td>\n",
              "      <td>H</td>\n",
              "      <td>9803</td>\n",
              "      <td>583.0</td>\n",
              "      <td>150.0</td>\n",
              "      <td>visa</td>\n",
              "      <td>226.0</td>\n",
              "      <td>...</td>\n",
              "      <td>firefox 56.0</td>\n",
              "      <td>24.0</td>\n",
              "      <td>1920x1080</td>\n",
              "      <td>match_status:2</td>\n",
              "      <td>T</td>\n",
              "      <td>F</td>\n",
              "      <td>T</td>\n",
              "      <td>T</td>\n",
              "      <td>desktop</td>\n",
              "      <td>rv:56.0</td>\n",
              "    </tr>\n",
              "    <tr>\n",
              "      <th>1</th>\n",
              "      <td>3557242</td>\n",
              "      <td>0</td>\n",
              "      <td>15123000</td>\n",
              "      <td>117.000</td>\n",
              "      <td>W</td>\n",
              "      <td>7919</td>\n",
              "      <td>194.0</td>\n",
              "      <td>150.0</td>\n",
              "      <td>mastercard</td>\n",
              "      <td>166.0</td>\n",
              "      <td>...</td>\n",
              "      <td>NaN</td>\n",
              "      <td>NaN</td>\n",
              "      <td>NaN</td>\n",
              "      <td>NaN</td>\n",
              "      <td>NaN</td>\n",
              "      <td>NaN</td>\n",
              "      <td>NaN</td>\n",
              "      <td>NaN</td>\n",
              "      <td>NaN</td>\n",
              "      <td>NaN</td>\n",
              "    </tr>\n",
              "    <tr>\n",
              "      <th>2</th>\n",
              "      <td>3327470</td>\n",
              "      <td>0</td>\n",
              "      <td>8378575</td>\n",
              "      <td>73.773</td>\n",
              "      <td>C</td>\n",
              "      <td>12778</td>\n",
              "      <td>500.0</td>\n",
              "      <td>185.0</td>\n",
              "      <td>mastercard</td>\n",
              "      <td>224.0</td>\n",
              "      <td>...</td>\n",
              "      <td>NaN</td>\n",
              "      <td>NaN</td>\n",
              "      <td>NaN</td>\n",
              "      <td>NaN</td>\n",
              "      <td>NaN</td>\n",
              "      <td>NaN</td>\n",
              "      <td>NaN</td>\n",
              "      <td>NaN</td>\n",
              "      <td>NaN</td>\n",
              "      <td>NaN</td>\n",
              "    </tr>\n",
              "    <tr>\n",
              "      <th>3</th>\n",
              "      <td>3118781</td>\n",
              "      <td>0</td>\n",
              "      <td>2607840</td>\n",
              "      <td>400.000</td>\n",
              "      <td>R</td>\n",
              "      <td>12316</td>\n",
              "      <td>548.0</td>\n",
              "      <td>150.0</td>\n",
              "      <td>visa</td>\n",
              "      <td>195.0</td>\n",
              "      <td>...</td>\n",
              "      <td>mobile safari generic</td>\n",
              "      <td>32.0</td>\n",
              "      <td>1136x640</td>\n",
              "      <td>match_status:2</td>\n",
              "      <td>T</td>\n",
              "      <td>F</td>\n",
              "      <td>T</td>\n",
              "      <td>F</td>\n",
              "      <td>mobile</td>\n",
              "      <td>iOS Device</td>\n",
              "    </tr>\n",
              "    <tr>\n",
              "      <th>4</th>\n",
              "      <td>3459772</td>\n",
              "      <td>0</td>\n",
              "      <td>12226544</td>\n",
              "      <td>31.950</td>\n",
              "      <td>W</td>\n",
              "      <td>9002</td>\n",
              "      <td>453.0</td>\n",
              "      <td>150.0</td>\n",
              "      <td>visa</td>\n",
              "      <td>226.0</td>\n",
              "      <td>...</td>\n",
              "      <td>NaN</td>\n",
              "      <td>NaN</td>\n",
              "      <td>NaN</td>\n",
              "      <td>NaN</td>\n",
              "      <td>NaN</td>\n",
              "      <td>NaN</td>\n",
              "      <td>NaN</td>\n",
              "      <td>NaN</td>\n",
              "      <td>NaN</td>\n",
              "      <td>NaN</td>\n",
              "    </tr>\n",
              "  </tbody>\n",
              "</table>\n",
              "<p>5 rows × 434 columns</p>\n",
              "</div>"
            ],
            "text/plain": [
              "   TransactionID  isFraud  TransactionDT  TransactionAmt ProductCD  card1  \\\n",
              "0        2994681        0         242834          25.000         H   9803   \n",
              "1        3557242        0       15123000         117.000         W   7919   \n",
              "2        3327470        0        8378575          73.773         C  12778   \n",
              "3        3118781        0        2607840         400.000         R  12316   \n",
              "4        3459772        0       12226544          31.950         W   9002   \n",
              "\n",
              "   card2  card3       card4  card5  ...                  id_31  id_32  \\\n",
              "0  583.0  150.0        visa  226.0  ...           firefox 56.0   24.0   \n",
              "1  194.0  150.0  mastercard  166.0  ...                    NaN    NaN   \n",
              "2  500.0  185.0  mastercard  224.0  ...                    NaN    NaN   \n",
              "3  548.0  150.0        visa  195.0  ...  mobile safari generic   32.0   \n",
              "4  453.0  150.0        visa  226.0  ...                    NaN    NaN   \n",
              "\n",
              "       id_33           id_34  id_35 id_36 id_37  id_38  DeviceType  DeviceInfo  \n",
              "0  1920x1080  match_status:2      T     F     T      T     desktop     rv:56.0  \n",
              "1        NaN             NaN    NaN   NaN   NaN    NaN         NaN         NaN  \n",
              "2        NaN             NaN    NaN   NaN   NaN    NaN         NaN         NaN  \n",
              "3   1136x640  match_status:2      T     F     T      F      mobile  iOS Device  \n",
              "4        NaN             NaN    NaN   NaN   NaN    NaN         NaN         NaN  \n",
              "\n",
              "[5 rows x 434 columns]"
            ]
          },
          "execution_count": 8,
          "metadata": {},
          "output_type": "execute_result"
        }
      ],
      "source": [
        "# This is a subset of the original data available at kaggle.\n",
        "fraud_data = pd.read_csv(\"C:\\\\Users\\\\Polar\\\\Documents\\\\ESCUELA\\\\5TO_SEMESTRE\\\\MAKINITAS\\\\Practica4\\\\fraud_data.csv\")\n",
        "\n",
        "fraud_data.head()"
      ]
    },
    {
      "cell_type": "markdown",
      "metadata": {
        "id": "5XzTggubDVtO"
      },
      "source": [
        "Imprimir info del dataset."
      ]
    },
    {
      "cell_type": "code",
      "execution_count": 9,
      "metadata": {
        "colab": {
          "base_uri": "https://localhost:8080/"
        },
        "id": "xik_-bvdDYLu",
        "outputId": "baa19f24-e9fb-4083-a097-24ee554ffd12"
      },
      "outputs": [
        {
          "name": "stdout",
          "output_type": "stream",
          "text": [
            "<class 'pandas.core.frame.DataFrame'>\n",
            "RangeIndex: 59054 entries, 0 to 59053\n",
            "Columns: 434 entries, TransactionID to DeviceInfo\n",
            "dtypes: float64(385), int64(18), object(31)\n",
            "memory usage: 195.5+ MB\n"
          ]
        }
      ],
      "source": [
        "fraud_data.info()"
      ]
    },
    {
      "cell_type": "markdown",
      "metadata": {
        "id": "MuZMIlyfDaap"
      },
      "source": [
        "Hay 434 columnas y 59054 filas"
      ]
    },
    {
      "cell_type": "code",
      "execution_count": 10,
      "metadata": {
        "colab": {
          "base_uri": "https://localhost:8080/",
          "height": 178
        },
        "id": "CHZUI1k0DjTT",
        "outputId": "8e7e13ac-eefa-46be-9551-49a289627711"
      },
      "outputs": [
        {
          "data": {
            "text/plain": [
              "isFraud\n",
              "0    57049\n",
              "1     2005\n",
              "Name: count, dtype: int64"
            ]
          },
          "execution_count": 10,
          "metadata": {},
          "output_type": "execute_result"
        }
      ],
      "source": [
        "# Taking a look at the target variable\n",
        "fraud_data.isFraud.value_counts()       # The value_counts() function is used to get a Series containing counts of unique values."
      ]
    },
    {
      "cell_type": "markdown",
      "metadata": {
        "id": "8ROhpfITDk1j"
      },
      "source": [
        "De todos esos datos, solo  2005 pertenecen a es fraude y 57049 no son fraudes, hay un desequilibrio gigante"
      ]
    },
    {
      "cell_type": "markdown",
      "metadata": {
        "id": "VOlh_2KrD9lt"
      },
      "source": [
        "Ahora vamos a revisar cuantos datos vacios tienen cada columna"
      ]
    },
    {
      "cell_type": "code",
      "execution_count": 11,
      "metadata": {
        "colab": {
          "base_uri": "https://localhost:8080/",
          "height": 458
        },
        "id": "1c1N4VUuEGrT",
        "outputId": "51d8cc37-71c2-4652-ee51-7d630efcbf57"
      },
      "outputs": [
        {
          "data": {
            "text/plain": [
              "TransactionID      0.000000\n",
              "isFraud            0.000000\n",
              "TransactionDT      0.000000\n",
              "TransactionAmt     0.000000\n",
              "ProductCD          0.000000\n",
              "                    ...    \n",
              "id_36             75.945745\n",
              "id_37             75.945745\n",
              "id_38             75.945745\n",
              "DeviceType        75.979612\n",
              "DeviceInfo        79.813391\n",
              "Length: 434, dtype: float64"
            ]
          },
          "execution_count": 11,
          "metadata": {},
          "output_type": "execute_result"
        }
      ],
      "source": [
        "fraud_data.isnull().sum() / len(fraud_data) * 100   # To get percentage of missing data in each column"
      ]
    },
    {
      "cell_type": "markdown",
      "metadata": {
        "id": "GFDay3uHEaqG"
      },
      "source": [
        "Para llenar las filas vacias no hay un patron que sirva ´para todas, en este caso primero vamos a eliminar las columnas que tengan mas del 20 porciento de informacion perdida"
      ]
    },
    {
      "cell_type": "code",
      "execution_count": 12,
      "metadata": {
        "id": "hFnqffo5Eq8s"
      },
      "outputs": [],
      "source": [
        "fraud_data = fraud_data[fraud_data.columns[fraud_data.isnull().mean() < 0.2]]    # Will keep those columns which has missing values less than 20%"
      ]
    },
    {
      "cell_type": "markdown",
      "metadata": {
        "id": "YHaHjNPNE01B"
      },
      "source": [
        "Ahora para los datos numericos, llenaremos las columnas vacias con el maedia de la columna."
      ]
    },
    {
      "cell_type": "code",
      "execution_count": 13,
      "metadata": {
        "id": "FcOmgzThE6nT"
      },
      "outputs": [],
      "source": [
        "# filling missing values of numerical columns with mean value.\n",
        "num_cols = fraud_data.select_dtypes(include=np.number).columns      # getting all the numerical columns\n",
        "\n",
        "fraud_data[num_cols] = fraud_data[num_cols].fillna(fraud_data[num_cols].mean())   # fills the missing values with mean"
      ]
    },
    {
      "cell_type": "markdown",
      "metadata": {
        "id": "eVt6aLKQE_IB"
      },
      "source": [
        "Para las columnas que poseen cadenas, tomaremos la moda ya que no es un dato numerico."
      ]
    },
    {
      "cell_type": "code",
      "execution_count": 14,
      "metadata": {
        "id": "Y4-T-vtsFKDN"
      },
      "outputs": [],
      "source": [
        "cat_cols = fraud_data.select_dtypes(include = 'object').columns    # getting all the categorical columns\n",
        "\n",
        "fraud_data[cat_cols] = fraud_data[cat_cols].fillna(fraud_data[cat_cols].mode().iloc[0])  # fills the missing values with maximum occuring element in the column"
      ]
    },
    {
      "cell_type": "markdown",
      "metadata": {
        "id": "Lx6HQ5glFPbT"
      },
      "source": [
        "Ahora cuando se revisa si el dataset tiene huecos podemos ver que no los tienen."
      ]
    },
    {
      "cell_type": "code",
      "execution_count": 15,
      "metadata": {
        "colab": {
          "base_uri": "https://localhost:8080/",
          "height": 458
        },
        "id": "fWf9M5iQFVNf",
        "outputId": "f8e383c2-087e-4e80-c824-cccfac50f42b"
      },
      "outputs": [
        {
          "data": {
            "text/plain": [
              "TransactionID     0.0\n",
              "isFraud           0.0\n",
              "TransactionDT     0.0\n",
              "TransactionAmt    0.0\n",
              "ProductCD         0.0\n",
              "                 ... \n",
              "V317              0.0\n",
              "V318              0.0\n",
              "V319              0.0\n",
              "V320              0.0\n",
              "V321              0.0\n",
              "Length: 182, dtype: float64"
            ]
          },
          "execution_count": 15,
          "metadata": {},
          "output_type": "execute_result"
        }
      ],
      "source": [
        "# Let's have a look if there still exist any missing values\n",
        "fraud_data.isnull().sum() / len(fraud_data) * 100"
      ]
    },
    {
      "cell_type": "markdown",
      "metadata": {
        "id": "DOZ-rJYLGRaO"
      },
      "source": [
        "Ahora que la base de datos esta Compelta debemos solucionar el problema de el desequilibrio de clases, Lo primero que vamos a hacer es Aplicar el metodo One Hot Encoding con el proposito de volver las columnas con valores categoricas en valores numericos"
      ]
    },
    {
      "cell_type": "code",
      "execution_count": 16,
      "metadata": {
        "colab": {
          "base_uri": "https://localhost:8080/",
          "height": 256
        },
        "id": "aKR-um8kGmKW",
        "outputId": "8ce0ad1d-0348-4fce-ad28-2125c1817620"
      },
      "outputs": [
        {
          "data": {
            "text/html": [
              "<div>\n",
              "<style scoped>\n",
              "    .dataframe tbody tr th:only-of-type {\n",
              "        vertical-align: middle;\n",
              "    }\n",
              "\n",
              "    .dataframe tbody tr th {\n",
              "        vertical-align: top;\n",
              "    }\n",
              "\n",
              "    .dataframe thead th {\n",
              "        text-align: right;\n",
              "    }\n",
              "</style>\n",
              "<table border=\"1\" class=\"dataframe\">\n",
              "  <thead>\n",
              "    <tr style=\"text-align: right;\">\n",
              "      <th></th>\n",
              "      <th>TransactionID</th>\n",
              "      <th>isFraud</th>\n",
              "      <th>TransactionDT</th>\n",
              "      <th>TransactionAmt</th>\n",
              "      <th>card1</th>\n",
              "      <th>card2</th>\n",
              "      <th>card3</th>\n",
              "      <th>card5</th>\n",
              "      <th>addr1</th>\n",
              "      <th>addr2</th>\n",
              "      <th>...</th>\n",
              "      <th>P_emaildomain_web.de</th>\n",
              "      <th>P_emaildomain_windstream.net</th>\n",
              "      <th>P_emaildomain_yahoo.co.jp</th>\n",
              "      <th>P_emaildomain_yahoo.co.uk</th>\n",
              "      <th>P_emaildomain_yahoo.com</th>\n",
              "      <th>P_emaildomain_yahoo.com.mx</th>\n",
              "      <th>P_emaildomain_yahoo.de</th>\n",
              "      <th>P_emaildomain_yahoo.es</th>\n",
              "      <th>P_emaildomain_yahoo.fr</th>\n",
              "      <th>P_emaildomain_ymail.com</th>\n",
              "    </tr>\n",
              "  </thead>\n",
              "  <tbody>\n",
              "    <tr>\n",
              "      <th>0</th>\n",
              "      <td>2994681</td>\n",
              "      <td>0</td>\n",
              "      <td>242834</td>\n",
              "      <td>25.000</td>\n",
              "      <td>9803</td>\n",
              "      <td>583.0</td>\n",
              "      <td>150.0</td>\n",
              "      <td>226.0</td>\n",
              "      <td>269.0</td>\n",
              "      <td>87.0</td>\n",
              "      <td>...</td>\n",
              "      <td>False</td>\n",
              "      <td>False</td>\n",
              "      <td>False</td>\n",
              "      <td>False</td>\n",
              "      <td>True</td>\n",
              "      <td>False</td>\n",
              "      <td>False</td>\n",
              "      <td>False</td>\n",
              "      <td>False</td>\n",
              "      <td>False</td>\n",
              "    </tr>\n",
              "    <tr>\n",
              "      <th>1</th>\n",
              "      <td>3557242</td>\n",
              "      <td>0</td>\n",
              "      <td>15123000</td>\n",
              "      <td>117.000</td>\n",
              "      <td>7919</td>\n",
              "      <td>194.0</td>\n",
              "      <td>150.0</td>\n",
              "      <td>166.0</td>\n",
              "      <td>181.0</td>\n",
              "      <td>87.0</td>\n",
              "      <td>...</td>\n",
              "      <td>False</td>\n",
              "      <td>False</td>\n",
              "      <td>False</td>\n",
              "      <td>False</td>\n",
              "      <td>False</td>\n",
              "      <td>False</td>\n",
              "      <td>False</td>\n",
              "      <td>False</td>\n",
              "      <td>False</td>\n",
              "      <td>False</td>\n",
              "    </tr>\n",
              "    <tr>\n",
              "      <th>2</th>\n",
              "      <td>3327470</td>\n",
              "      <td>0</td>\n",
              "      <td>8378575</td>\n",
              "      <td>73.773</td>\n",
              "      <td>12778</td>\n",
              "      <td>500.0</td>\n",
              "      <td>185.0</td>\n",
              "      <td>224.0</td>\n",
              "      <td>284.0</td>\n",
              "      <td>60.0</td>\n",
              "      <td>...</td>\n",
              "      <td>False</td>\n",
              "      <td>False</td>\n",
              "      <td>False</td>\n",
              "      <td>False</td>\n",
              "      <td>False</td>\n",
              "      <td>False</td>\n",
              "      <td>False</td>\n",
              "      <td>False</td>\n",
              "      <td>False</td>\n",
              "      <td>False</td>\n",
              "    </tr>\n",
              "    <tr>\n",
              "      <th>3</th>\n",
              "      <td>3118781</td>\n",
              "      <td>0</td>\n",
              "      <td>2607840</td>\n",
              "      <td>400.000</td>\n",
              "      <td>12316</td>\n",
              "      <td>548.0</td>\n",
              "      <td>150.0</td>\n",
              "      <td>195.0</td>\n",
              "      <td>441.0</td>\n",
              "      <td>87.0</td>\n",
              "      <td>...</td>\n",
              "      <td>False</td>\n",
              "      <td>False</td>\n",
              "      <td>False</td>\n",
              "      <td>False</td>\n",
              "      <td>False</td>\n",
              "      <td>False</td>\n",
              "      <td>False</td>\n",
              "      <td>False</td>\n",
              "      <td>False</td>\n",
              "      <td>False</td>\n",
              "    </tr>\n",
              "    <tr>\n",
              "      <th>4</th>\n",
              "      <td>3459772</td>\n",
              "      <td>0</td>\n",
              "      <td>12226544</td>\n",
              "      <td>31.950</td>\n",
              "      <td>9002</td>\n",
              "      <td>453.0</td>\n",
              "      <td>150.0</td>\n",
              "      <td>226.0</td>\n",
              "      <td>264.0</td>\n",
              "      <td>87.0</td>\n",
              "      <td>...</td>\n",
              "      <td>False</td>\n",
              "      <td>False</td>\n",
              "      <td>False</td>\n",
              "      <td>False</td>\n",
              "      <td>True</td>\n",
              "      <td>False</td>\n",
              "      <td>False</td>\n",
              "      <td>False</td>\n",
              "      <td>False</td>\n",
              "      <td>False</td>\n",
              "    </tr>\n",
              "  </tbody>\n",
              "</table>\n",
              "<p>5 rows × 250 columns</p>\n",
              "</div>"
            ],
            "text/plain": [
              "   TransactionID  isFraud  TransactionDT  TransactionAmt  card1  card2  card3  \\\n",
              "0        2994681        0         242834          25.000   9803  583.0  150.0   \n",
              "1        3557242        0       15123000         117.000   7919  194.0  150.0   \n",
              "2        3327470        0        8378575          73.773  12778  500.0  185.0   \n",
              "3        3118781        0        2607840         400.000  12316  548.0  150.0   \n",
              "4        3459772        0       12226544          31.950   9002  453.0  150.0   \n",
              "\n",
              "   card5  addr1  addr2  ...  P_emaildomain_web.de  \\\n",
              "0  226.0  269.0   87.0  ...                 False   \n",
              "1  166.0  181.0   87.0  ...                 False   \n",
              "2  224.0  284.0   60.0  ...                 False   \n",
              "3  195.0  441.0   87.0  ...                 False   \n",
              "4  226.0  264.0   87.0  ...                 False   \n",
              "\n",
              "   P_emaildomain_windstream.net  P_emaildomain_yahoo.co.jp  \\\n",
              "0                         False                      False   \n",
              "1                         False                      False   \n",
              "2                         False                      False   \n",
              "3                         False                      False   \n",
              "4                         False                      False   \n",
              "\n",
              "   P_emaildomain_yahoo.co.uk  P_emaildomain_yahoo.com  \\\n",
              "0                      False                     True   \n",
              "1                      False                    False   \n",
              "2                      False                    False   \n",
              "3                      False                    False   \n",
              "4                      False                     True   \n",
              "\n",
              "   P_emaildomain_yahoo.com.mx  P_emaildomain_yahoo.de  P_emaildomain_yahoo.es  \\\n",
              "0                       False                   False                   False   \n",
              "1                       False                   False                   False   \n",
              "2                       False                   False                   False   \n",
              "3                       False                   False                   False   \n",
              "4                       False                   False                   False   \n",
              "\n",
              "   P_emaildomain_yahoo.fr  P_emaildomain_ymail.com  \n",
              "0                   False                    False  \n",
              "1                   False                    False  \n",
              "2                   False                    False  \n",
              "3                   False                    False  \n",
              "4                   False                    False  \n",
              "\n",
              "[5 rows x 250 columns]"
            ]
          },
          "execution_count": 16,
          "metadata": {},
          "output_type": "execute_result"
        }
      ],
      "source": [
        "fraud_data = pd.get_dummies(fraud_data, columns=cat_cols)    # earlier we have collected all the categorical columns in cat_cols\n",
        "fraud_data.head()"
      ]
    },
    {
      "cell_type": "markdown",
      "metadata": {
        "id": "Qfly8eaLHMG6"
      },
      "source": [
        "X: Contiene todas las columnas del conjunto de datos, excepto la columna 'isFraud', lo que representa las características de entrada que describen los datos (variables independientes).\n",
        "Y: Contiene solo la columna 'isFraud', que representa el objetivo a predecir (variable dependiente)."
      ]
    },
    {
      "cell_type": "code",
      "execution_count": 17,
      "metadata": {
        "id": "Tp2zxUVvHNPV"
      },
      "outputs": [],
      "source": [
        "\n",
        "# Separate input features and output feature\n",
        "X = fraud_data.drop(columns = ['isFraud'])       # input features\n",
        "Y = fraud_data.isFraud      # output feature"
      ]
    },
    {
      "cell_type": "markdown",
      "metadata": {
        "id": "kqjMwN-XHV1g"
      },
      "source": [
        "Estandrizar datos para que esten en una misma metrica"
      ]
    },
    {
      "cell_type": "code",
      "execution_count": 18,
      "metadata": {
        "colab": {
          "base_uri": "https://localhost:8080/",
          "height": 256
        },
        "id": "rH13OEjgHZ8V",
        "outputId": "c2a36fd9-351b-4351-f5ae-1f2e2cba0525"
      },
      "outputs": [
        {
          "data": {
            "text/html": [
              "<div>\n",
              "<style scoped>\n",
              "    .dataframe tbody tr th:only-of-type {\n",
              "        vertical-align: middle;\n",
              "    }\n",
              "\n",
              "    .dataframe tbody tr th {\n",
              "        vertical-align: top;\n",
              "    }\n",
              "\n",
              "    .dataframe thead th {\n",
              "        text-align: right;\n",
              "    }\n",
              "</style>\n",
              "<table border=\"1\" class=\"dataframe\">\n",
              "  <thead>\n",
              "    <tr style=\"text-align: right;\">\n",
              "      <th></th>\n",
              "      <th>TransactionID</th>\n",
              "      <th>TransactionDT</th>\n",
              "      <th>TransactionAmt</th>\n",
              "      <th>card1</th>\n",
              "      <th>card2</th>\n",
              "      <th>card3</th>\n",
              "      <th>card5</th>\n",
              "      <th>addr1</th>\n",
              "      <th>addr2</th>\n",
              "      <th>C1</th>\n",
              "      <th>...</th>\n",
              "      <th>P_emaildomain_web.de</th>\n",
              "      <th>P_emaildomain_windstream.net</th>\n",
              "      <th>P_emaildomain_yahoo.co.jp</th>\n",
              "      <th>P_emaildomain_yahoo.co.uk</th>\n",
              "      <th>P_emaildomain_yahoo.com</th>\n",
              "      <th>P_emaildomain_yahoo.com.mx</th>\n",
              "      <th>P_emaildomain_yahoo.de</th>\n",
              "      <th>P_emaildomain_yahoo.es</th>\n",
              "      <th>P_emaildomain_yahoo.fr</th>\n",
              "      <th>P_emaildomain_ymail.com</th>\n",
              "    </tr>\n",
              "  </thead>\n",
              "  <tbody>\n",
              "    <tr>\n",
              "      <th>0</th>\n",
              "      <td>-1.688548</td>\n",
              "      <td>-1.544958</td>\n",
              "      <td>-0.468203</td>\n",
              "      <td>-0.021940</td>\n",
              "      <td>1.412632</td>\n",
              "      <td>-0.286861</td>\n",
              "      <td>0.653753</td>\n",
              "      <td>-0.225982</td>\n",
              "      <td>0.077832</td>\n",
              "      <td>-0.099186</td>\n",
              "      <td>...</td>\n",
              "      <td>-0.021387</td>\n",
              "      <td>-0.022918</td>\n",
              "      <td>-0.009202</td>\n",
              "      <td>-0.004115</td>\n",
              "      <td>2.216281</td>\n",
              "      <td>-0.053413</td>\n",
              "      <td>-0.013649</td>\n",
              "      <td>-0.014839</td>\n",
              "      <td>-0.015399</td>\n",
              "      <td>-0.06253</td>\n",
              "    </tr>\n",
              "    <tr>\n",
              "      <th>1</th>\n",
              "      <td>1.615662</td>\n",
              "      <td>1.681426</td>\n",
              "      <td>-0.073540</td>\n",
              "      <td>-0.406928</td>\n",
              "      <td>-1.078794</td>\n",
              "      <td>-0.286861</td>\n",
              "      <td>-0.804662</td>\n",
              "      <td>-1.144356</td>\n",
              "      <td>0.077832</td>\n",
              "      <td>-0.099186</td>\n",
              "      <td>...</td>\n",
              "      <td>-0.021387</td>\n",
              "      <td>-0.022918</td>\n",
              "      <td>-0.009202</td>\n",
              "      <td>-0.004115</td>\n",
              "      <td>-0.451206</td>\n",
              "      <td>-0.053413</td>\n",
              "      <td>-0.013649</td>\n",
              "      <td>-0.014839</td>\n",
              "      <td>-0.015399</td>\n",
              "      <td>-0.06253</td>\n",
              "    </tr>\n",
              "    <tr>\n",
              "      <th>2</th>\n",
              "      <td>0.266093</td>\n",
              "      <td>0.219070</td>\n",
              "      <td>-0.258976</td>\n",
              "      <td>0.585989</td>\n",
              "      <td>0.881042</td>\n",
              "      <td>2.788641</td>\n",
              "      <td>0.605139</td>\n",
              "      <td>-0.069441</td>\n",
              "      <td>-10.788933</td>\n",
              "      <td>-0.099186</td>\n",
              "      <td>...</td>\n",
              "      <td>-0.021387</td>\n",
              "      <td>-0.022918</td>\n",
              "      <td>-0.009202</td>\n",
              "      <td>-0.004115</td>\n",
              "      <td>-0.451206</td>\n",
              "      <td>-0.053413</td>\n",
              "      <td>-0.013649</td>\n",
              "      <td>-0.014839</td>\n",
              "      <td>-0.015399</td>\n",
              "      <td>-0.06253</td>\n",
              "    </tr>\n",
              "    <tr>\n",
              "      <th>3</th>\n",
              "      <td>-0.959645</td>\n",
              "      <td>-1.032167</td>\n",
              "      <td>1.140478</td>\n",
              "      <td>0.491581</td>\n",
              "      <td>1.188468</td>\n",
              "      <td>-0.286861</td>\n",
              "      <td>-0.099761</td>\n",
              "      <td>1.569022</td>\n",
              "      <td>0.077832</td>\n",
              "      <td>-0.099186</td>\n",
              "      <td>...</td>\n",
              "      <td>-0.021387</td>\n",
              "      <td>-0.022918</td>\n",
              "      <td>-0.009202</td>\n",
              "      <td>-0.004115</td>\n",
              "      <td>-0.451206</td>\n",
              "      <td>-0.053413</td>\n",
              "      <td>-0.013649</td>\n",
              "      <td>-0.014839</td>\n",
              "      <td>-0.015399</td>\n",
              "      <td>-0.06253</td>\n",
              "    </tr>\n",
              "    <tr>\n",
              "      <th>4</th>\n",
              "      <td>1.043171</td>\n",
              "      <td>1.053404</td>\n",
              "      <td>-0.438389</td>\n",
              "      <td>-0.185621</td>\n",
              "      <td>0.580022</td>\n",
              "      <td>-0.286861</td>\n",
              "      <td>0.653753</td>\n",
              "      <td>-0.278162</td>\n",
              "      <td>0.077832</td>\n",
              "      <td>-0.082944</td>\n",
              "      <td>...</td>\n",
              "      <td>-0.021387</td>\n",
              "      <td>-0.022918</td>\n",
              "      <td>-0.009202</td>\n",
              "      <td>-0.004115</td>\n",
              "      <td>2.216281</td>\n",
              "      <td>-0.053413</td>\n",
              "      <td>-0.013649</td>\n",
              "      <td>-0.014839</td>\n",
              "      <td>-0.015399</td>\n",
              "      <td>-0.06253</td>\n",
              "    </tr>\n",
              "  </tbody>\n",
              "</table>\n",
              "<p>5 rows × 249 columns</p>\n",
              "</div>"
            ],
            "text/plain": [
              "   TransactionID  TransactionDT  TransactionAmt     card1     card2     card3  \\\n",
              "0      -1.688548      -1.544958       -0.468203 -0.021940  1.412632 -0.286861   \n",
              "1       1.615662       1.681426       -0.073540 -0.406928 -1.078794 -0.286861   \n",
              "2       0.266093       0.219070       -0.258976  0.585989  0.881042  2.788641   \n",
              "3      -0.959645      -1.032167        1.140478  0.491581  1.188468 -0.286861   \n",
              "4       1.043171       1.053404       -0.438389 -0.185621  0.580022 -0.286861   \n",
              "\n",
              "      card5     addr1      addr2        C1  ...  P_emaildomain_web.de  \\\n",
              "0  0.653753 -0.225982   0.077832 -0.099186  ...             -0.021387   \n",
              "1 -0.804662 -1.144356   0.077832 -0.099186  ...             -0.021387   \n",
              "2  0.605139 -0.069441 -10.788933 -0.099186  ...             -0.021387   \n",
              "3 -0.099761  1.569022   0.077832 -0.099186  ...             -0.021387   \n",
              "4  0.653753 -0.278162   0.077832 -0.082944  ...             -0.021387   \n",
              "\n",
              "   P_emaildomain_windstream.net  P_emaildomain_yahoo.co.jp  \\\n",
              "0                     -0.022918                  -0.009202   \n",
              "1                     -0.022918                  -0.009202   \n",
              "2                     -0.022918                  -0.009202   \n",
              "3                     -0.022918                  -0.009202   \n",
              "4                     -0.022918                  -0.009202   \n",
              "\n",
              "   P_emaildomain_yahoo.co.uk  P_emaildomain_yahoo.com  \\\n",
              "0                  -0.004115                 2.216281   \n",
              "1                  -0.004115                -0.451206   \n",
              "2                  -0.004115                -0.451206   \n",
              "3                  -0.004115                -0.451206   \n",
              "4                  -0.004115                 2.216281   \n",
              "\n",
              "   P_emaildomain_yahoo.com.mx  P_emaildomain_yahoo.de  P_emaildomain_yahoo.es  \\\n",
              "0                   -0.053413               -0.013649               -0.014839   \n",
              "1                   -0.053413               -0.013649               -0.014839   \n",
              "2                   -0.053413               -0.013649               -0.014839   \n",
              "3                   -0.053413               -0.013649               -0.014839   \n",
              "4                   -0.053413               -0.013649               -0.014839   \n",
              "\n",
              "   P_emaildomain_yahoo.fr  P_emaildomain_ymail.com  \n",
              "0               -0.015399                 -0.06253  \n",
              "1               -0.015399                 -0.06253  \n",
              "2               -0.015399                 -0.06253  \n",
              "3               -0.015399                 -0.06253  \n",
              "4               -0.015399                 -0.06253  \n",
              "\n",
              "[5 rows x 249 columns]"
            ]
          },
          "execution_count": 18,
          "metadata": {},
          "output_type": "execute_result"
        }
      ],
      "source": [
        "from sklearn.preprocessing import StandardScaler\n",
        "scaled_features = StandardScaler().fit_transform(X)\n",
        "scaled_features = pd.DataFrame(data=scaled_features)\n",
        "scaled_features.columns= X.columns\n",
        "# Let's see how the data looks after scaling\n",
        "scaled_features.head()"
      ]
    },
    {
      "cell_type": "markdown",
      "metadata": {
        "id": "FnNX2F1hIYNx"
      },
      "source": [
        "Ahora se va a partir el dataset en un fragmento de entrenamiento y uno de testeo, con el porposito de evitar overfitting\n",
        "\n",
        "en este caso se usara el 30 porciento del datasetpara pruebas"
      ]
    },
    {
      "cell_type": "code",
      "execution_count": 19,
      "metadata": {
        "id": "yK4FGNV-IuyI"
      },
      "outputs": [],
      "source": [
        "# Splitting the data\n",
        "from sklearn.model_selection import train_test_split\n",
        "X_train, X_test, Y_train, Y_test = train_test_split(X, Y, test_size = 0.3, random_state = 42)\n",
        "\n",
        "# X_train: independent feature data for training the model\n",
        "# Y_train: dependent feature data for training the model\n",
        "# X_test: independent feature data for testing the model; will be used to predict the target values\n",
        "# Y_test: original target values of X_test; We will compare this values with our predicted values.\n",
        "\n",
        "# test_size = 0.3: 30% of the data will go for test set and 70% of the data will go for train set\n",
        "# random_state = 42: this will fix the split i.e. there will be same split for each time you run the code"
      ]
    },
    {
      "cell_type": "markdown",
      "metadata": {
        "id": "OHKNm-r7KTSo"
      },
      "source": [
        "**SMOTE**\n",
        "\n",
        "metodo smote para manejar el desequilibrio de clases\n",
        "que usa al algoritmo del vecino mas sercano para generar un nuevo dato sintetico"
      ]
    },
    {
      "cell_type": "code",
      "execution_count": 20,
      "metadata": {
        "id": "TUfM3WhVKdRy"
      },
      "outputs": [],
      "source": [
        "# import SMOTE\n",
        "from imblearn.over_sampling import SMOTE\n",
        "\n",
        "# create SMOTE object\n",
        "sm = SMOTE(random_state=25, sampling_strategy=1.0)\n",
        "\n",
        "# fit the sampling\n",
        "X_train, Y_train = sm.fit_resample(X_train, Y_train)\n"
      ]
    },
    {
      "cell_type": "code",
      "execution_count": 21,
      "metadata": {
        "colab": {
          "base_uri": "https://localhost:8080/"
        },
        "id": "S2An390LLjrY",
        "outputId": "8b9c06a2-2db8-4828-c083-d2f4a7de4223"
      },
      "outputs": [
        {
          "data": {
            "text/plain": [
              "(array([0, 1]), array([39942, 39942]))"
            ]
          },
          "execution_count": 21,
          "metadata": {},
          "output_type": "execute_result"
        }
      ],
      "source": [
        "np.unique(Y_train, return_counts=True)\n",
        "# Y_train is numpy array, so unique() functions returns the count of all the unique elements in the array"
      ]
    },
    {
      "cell_type": "markdown",
      "metadata": {
        "id": "ckrUG0mNJFvu"
      },
      "source": [
        "**oversampling**\n",
        "\n",
        "\n",
        "Ahora se hara uso de oversampling paraa llenar los datos faltantes de las clases  con sklearn"
      ]
    },
    {
      "cell_type": "code",
      "execution_count": 22,
      "metadata": {
        "id": "V6Od9j8CJQq2"
      },
      "outputs": [],
      "source": [
        "from sklearn.utils import resample"
      ]
    },
    {
      "cell_type": "markdown",
      "metadata": {
        "id": "KCT-iLEeJW_v"
      },
      "source": [
        "Reconstruir el dataset que se separo anteriormente"
      ]
    },
    {
      "cell_type": "code",
      "execution_count": 23,
      "metadata": {
        "id": "LfnZqfTsJShe"
      },
      "outputs": [],
      "source": [
        "train_data = pd.concat([X_train, Y_train], axis = 1)"
      ]
    },
    {
      "cell_type": "markdown",
      "metadata": {
        "id": "OXu7I-UNJfhk"
      },
      "source": [
        "Separar clase minoritaria de la mayotitaria"
      ]
    },
    {
      "cell_type": "code",
      "execution_count": 24,
      "metadata": {
        "id": "FYGfadUiJe8I"
      },
      "outputs": [],
      "source": [
        "# separate minority and majority class\n",
        "not_fraud = train_data[train_data.isFraud==0]\n",
        "fraud = train_data[train_data.isFraud==1]"
      ]
    },
    {
      "cell_type": "markdown",
      "metadata": {
        "id": "sTmhkGSDJn_z"
      },
      "source": [
        "Crear mas muestras de la clase con poco representantes para que se mepareje con la otra."
      ]
    },
    {
      "cell_type": "code",
      "execution_count": 25,
      "metadata": {
        "id": "VBTo-NYVJvm9"
      },
      "outputs": [],
      "source": [
        "# Unsample minority; we are oversampling the minority class to match the number of majority classs\n",
        "fraud_upsampled = resample(fraud,\n",
        "                           replace = True, # Sample with replacement\n",
        "                           n_samples = len(not_fraud), # Match number in majority class\n",
        "                           random_state=27)"
      ]
    },
    {
      "cell_type": "markdown",
      "metadata": {
        "id": "y09OhypoJzWC"
      },
      "source": [
        "Combinar d enuevo"
      ]
    },
    {
      "cell_type": "code",
      "execution_count": 26,
      "metadata": {
        "id": "v-24OYOfJ0it"
      },
      "outputs": [],
      "source": [
        "upsampled = pd.concat([not_fraud, fraud_upsampled])"
      ]
    },
    {
      "cell_type": "markdown",
      "metadata": {
        "id": "rBOnMUeoJ3vE"
      },
      "source": [
        "Ver ahora cuantos datos existen de cada clase."
      ]
    },
    {
      "cell_type": "code",
      "execution_count": 27,
      "metadata": {
        "colab": {
          "base_uri": "https://localhost:8080/",
          "height": 178
        },
        "id": "_O-_XhrxJ7e8",
        "outputId": "df7b442a-9af3-4c18-acba-e5e589dcb88c"
      },
      "outputs": [
        {
          "data": {
            "text/plain": [
              "isFraud\n",
              "0    39942\n",
              "1    39942\n",
              "Name: count, dtype: int64"
            ]
          },
          "execution_count": 27,
          "metadata": {},
          "output_type": "execute_result"
        }
      ],
      "source": [
        "# Now let's check the classes count\n",
        "upsampled.isFraud.value_counts()"
      ]
    }
  ],
  "metadata": {
    "colab": {
      "provenance": []
    },
    "kernelspec": {
      "display_name": "Python 3",
      "name": "python3"
    },
    "language_info": {
      "codemirror_mode": {
        "name": "ipython",
        "version": 3
      },
      "file_extension": ".py",
      "mimetype": "text/x-python",
      "name": "python",
      "nbconvert_exporter": "python",
      "pygments_lexer": "ipython3",
      "version": "3.12.4"
    }
  },
  "nbformat": 4,
  "nbformat_minor": 0
}
